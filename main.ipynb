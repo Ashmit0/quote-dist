{
 "cells": [
  {
   "cell_type": "code",
   "execution_count": 1,
   "metadata": {},
   "outputs": [],
   "source": [
    "import os \n",
    "import sys \n",
    "import csv \n",
    "import yaml\n",
    "import pickle \n",
    "import numpy as np \n",
    "import pandas as pd \n",
    "from tqdm import tqdm \n",
    "import datetime "
   ]
  },
  {
   "cell_type": "code",
   "execution_count": 2,
   "metadata": {},
   "outputs": [],
   "source": [
    "# define fixed variable and user inputs : \n",
    "\n",
    "IST = datetime.timezone(datetime.timedelta(hours=5, minutes=30))\n",
    " \n",
    "header_list = [\n",
    "'trading_date','data_source','stream_id','exchange_epoch_nanos','server_epoch_nanos','capture_epoch_nanos',\n",
    "'contract_id','venue_token','contract_name','market_segment_id','symbol','contract_type','strike_price','expiry date',\n",
    "'display_factor','handle_value','currency_unit','is_touchline_change','feed_message_id','inpacket_sequence_num',\n",
    "'is_last_in_feed_message','event_type','packet_sequence_num','contract_sequence_num','is_implied','transact_epoch_nanos',\n",
    "'bp1','bq1','boc1','has_hidden_qty_bid','ap1','aq1','aoc1','has_hidden_qty_ask','bp2','bq2','boc2','ap2','aq2','aoc2',\n",
    "'bp3','bq3','boc3','ap3','aq3','aoc3','bp4','bq4','boc4','ap4','aq4','aoc4','bp5','bq5','boc5','ap5','aq5','aoc5',\n",
    "'implied_bp1','implied_bq1','implied_ap1','implied_aq1','implied_bp2','implied_bq2','implied_ap2','implied_aq2',\n",
    "'previous_mid','mid','is_mid_change','weighted_mid','contract_status','side','price','qty','order_count','qpos',\n",
    "'old_qpos','oid1','oid2','priority','old_price','old_qty','aggressor_type','qty_in_last_trade','level','capture_ts timestamptz'\n",
    "]\n",
    "\n",
    "header_list_to_keep = [\n",
    "'exchange_epoch_nanos','contract_name','expiry date','is_touchline_change','event_type',\n",
    "'bp1','bq1','boc1','ap1','aq1','aoc1','bp2','bq2','boc2','ap2','aq2','aoc2',\n",
    "'bp3','bq3','boc3','ap3','aq3','aoc3','bp4','bq4','boc4','ap4','aq4','aoc4','bp5','bq5','boc5','ap5','aq5','aoc5',\n",
    "'previous_mid','mid','is_mid_change','weighted_mid','side','price','qty','qpos',\n",
    "'old_qpos','oid1','oid2','old_price','old_qty','aggressor_type','qty_in_last_trade','level'\n",
    "]\n",
    "\n",
    "cols_to_check = [\n",
    "'market_segment_id','contract_type',\n",
    "'display_factor','handle_value','is_touchline_change','inpacket_sequence_num',\n",
    "'is_last_in_feed_message','contract_sequence_num','is_implied','contract_status','qpos',\n",
    "'old_qpos'\n",
    "]\n",
    "\n",
    "qty_cols = [\n",
    "    'bq1','aq1','bq2','aq2','bq3','aq3',\n",
    "    'bq4','aq4','bq5','aq5','qty',\n",
    "    'old_qty','qty_in_last_trade'\n",
    "]\n",
    "\n",
    "\n",
    "book_cols = [\n",
    "    'bp1','bq1','boc1','ap1','aq1','aoc1','bp2','bq2','boc2',\n",
    "    'ap2','aq2','aoc2','bp3','bq3','boc3','ap3','aq3','aoc3','bp4','bq4',\n",
    "    'boc4','ap4','aq4','aoc4','bp5','bq5','boc5','ap5','aq5','aoc5'\n",
    "]\n",
    "\n",
    "ask_cols = [\n",
    "    'ap1','aq1','aoc1',\n",
    "    'ap2','aq2','aoc2','ap3','aq3','aoc3',\n",
    "    'ap4','aq4','aoc4','ap5','aq5','aoc5'\n",
    "]\n",
    "\n",
    "bid_cols = [\n",
    "    'bp1','bq1','boc1','bp2','bq2','boc2',\n",
    "    'bp3','bq3','boc3','bp4','bq4',\n",
    "    'boc4','bp5','bq5','boc5'\n",
    "]\n",
    "\n",
    "\n",
    "\n",
    "ns_cols = ['exchange_epoch_nanos' , 'server_epoch_nanos' , 'capture_epoch_nanos' , 'transact_epoch_nanos' , 'priority']\n",
    "\n",
    "with open('user_input.yaml' , 'r' ) as f : \n",
    "    inputs = yaml.safe_load( f ) \n",
    "\n",
    "\n",
    "usecols = [header_list.index(col) for col in header_list_to_keep ]"
   ]
  },
  {
   "cell_type": "code",
   "execution_count": 3,
   "metadata": {},
   "outputs": [
    {
     "data": {
      "text/plain": [
       "'/Users/ashmitbathla/Documents/quote-dist/data/20250519/obo_20250519.log'"
      ]
     },
     "execution_count": 3,
     "metadata": {},
     "output_type": "execute_result"
    }
   ],
   "source": [
    "# path to obo file :\n",
    "date_dir =  os.path.join(inputs['parent_dir'] , inputs['date'] )\n",
    "for file in os.listdir( date_dir ) : \n",
    "    if file.startswith('obo') : \n",
    "        file_path = os.path.join( date_dir , file )\n",
    "        break \n",
    "\n",
    "file_path "
   ]
  },
  {
   "cell_type": "code",
   "execution_count": 4,
   "metadata": {},
   "outputs": [],
   "source": [
    "def get_iter() : \n",
    "    return pd.read_csv(file_path, header=None, names=header_list_to_keep , chunksize=inputs['chunk_size']  , dtype = {82 : str} , usecols= usecols ) "
   ]
  },
  {
   "cell_type": "code",
   "execution_count": 5,
   "metadata": {},
   "outputs": [],
   "source": [
    "def get_unique( cols_to_check ): \n",
    "    check_dict = { col : []  for col in cols_to_check }\n",
    "    for chunk in get_iter() : \n",
    "        for col in cols_to_check : \n",
    "            temp = chunk.dropna(subset=[col])\n",
    "            check_dict[col] = check_dict[col] + temp[col].unique().tolist()\n",
    "    for col in check_dict : \n",
    "        print(f'for {col} : {np.unique(check_dict[col])}')"
   ]
  },
  {
   "cell_type": "code",
   "execution_count": 6,
   "metadata": {},
   "outputs": [],
   "source": [
    "def convert_ns_to_time(time_ns ) : \n",
    "    dt = datetime.datetime.fromtimestamp( np.floor(time_ns/1e9) , tz=IST).replace(tzinfo=None).time()\n",
    "    ns_part = f\"{time_ns%int(1e9)*1e-9:.9f}\"\n",
    "\n",
    "    return dt.strftime('%H:%M:%S') + ns_part[1:]"
   ]
  },
  {
   "cell_type": "code",
   "execution_count": 7,
   "metadata": {},
   "outputs": [
    {
     "data": {
      "text/plain": [
       "('09:15:00.018421950', '09:15:00.018421950')"
      ]
     },
     "execution_count": 7,
     "metadata": {},
     "output_type": "execute_result"
    }
   ],
   "source": [
    "convert_ns_to_time( 1747626300018421950 ) , convert_ns_to_time( 1747626300018421950%(int(36*24e11)) )"
   ]
  },
  {
   "cell_type": "code",
   "execution_count": 8,
   "metadata": {},
   "outputs": [
    {
     "data": {
      "text/plain": [
       "'00:00:00.018421950'"
      ]
     },
     "execution_count": 8,
     "metadata": {},
     "output_type": "execute_result"
    }
   ],
   "source": [
    "convert_ns_to_time( 1747626300018421950%(int(36*24e11)) - 33300*1e9  )"
   ]
  },
  {
   "cell_type": "code",
   "execution_count": 9,
   "metadata": {},
   "outputs": [],
   "source": [
    "# get_unique(['event_type' , 'qpos' , 'level'])\n",
    "# get_unique(['order_count' , 'has_hidden_qty_bid' , 'aggressor_type'])\n",
    "# get_unique(['order_count'])"
   ]
  },
  {
   "cell_type": "code",
   "execution_count": 10,
   "metadata": {},
   "outputs": [],
   "source": [
    "# next(get_iter()).fillna('--').to_csv('temp.csv' , index = False )"
   ]
  },
  {
   "cell_type": "code",
   "execution_count": 11,
   "metadata": {},
   "outputs": [],
   "source": [
    "def get_lot_size_path(inputs) : \n",
    "    return os.path.join( inputs['contract_dir'], inputs['near'] + '_NSE_FO_FUT_LOT_SIZE.pickel' )\n",
    "\n",
    "def get_contract_master_path(inputs) : \n",
    "    year_month_str = pd.to_datetime( inputs['date'] ).strftime(format = '%Y_%m')\n",
    "    contract_path = [ os.path.join(inputs['contract_dir'], f) for f in os.listdir(inputs['contract_dir']) if f.startswith(year_month_str) and os.path.isfile(os.path.join(inputs['contract_dir'], f))]\n",
    "    if( len(contract_path) == 0 ) : \n",
    "        raise ValueError(f\"Contrate Path for {inputs['date']} not found.\")\n",
    "    return contract_path[0]\n",
    "\n",
    "month_to_nse_code = {\n",
    "    1: 'F',   # January\n",
    "    2: 'G',   # February\n",
    "    3: 'H',   # March\n",
    "    4: 'J',   # April\n",
    "    5: 'K',   # May\n",
    "    6: 'M',   # June\n",
    "    7: 'N',   # July\n",
    "    8: 'Q',   # August\n",
    "    9: 'U',   # September\n",
    "    10: 'V',  # October\n",
    "    11: 'X',  # November\n",
    "    12: 'Z'   # December\n",
    "}\n",
    "\n",
    "def convert_date_to_code( date ) : \n",
    "    if( type(date) != str ): \n",
    "        date = str( date )\n",
    "    date = pd.to_datetime( date )\n",
    "    return month_to_nse_code[int(date.strftime('%m'))] + date.strftime('%Y')[2:]\n",
    "\n",
    "def get_lot_size(inputs) : \n",
    "    lot_path = get_lot_size_path(inputs) \n",
    "    try : \n",
    "        with open( lot_path , 'rb' ) as f : \n",
    "            df = pickle.load(f)\n",
    "    except :  \n",
    "        df = pd.read_csv(\n",
    "            get_contract_master_path(inputs) , \n",
    "            compression='gzip' , \n",
    "            usecols = [2,3,7,12,28]\n",
    "        )\n",
    "        df = df[df['type'] == 'FUT' ]\n",
    "        df['expiry_date'] = df['expiry_date'].apply(convert_date_to_code)\n",
    "        df['symbol'] = 'NSEFNO_' + df['symbol'] + '_' + df['expiry_date']\n",
    "        df.pop('type')\n",
    "        df.pop('expiry_date')\n",
    "        df = df.set_index('symbol')\n",
    "        # lot_dict = df['lotsize'].to_dict()\n",
    "        with open( lot_path , 'wb' ) as f : \n",
    "            pickle.dump( df , f ) \n",
    "    return df "
   ]
  },
  {
   "cell_type": "code",
   "execution_count": 12,
   "metadata": {},
   "outputs": [
    {
     "name": "stdout",
     "output_type": "stream",
     "text": [
      "NSEFNO_HFCL_K25 NSEFNO_HFCL_M25 NSEFNO_HFCL_SP_K25_M25\n"
     ]
    },
    {
     "data": {
      "text/html": [
       "<div>\n",
       "<style scoped>\n",
       "    .dataframe tbody tr th:only-of-type {\n",
       "        vertical-align: middle;\n",
       "    }\n",
       "\n",
       "    .dataframe tbody tr th {\n",
       "        vertical-align: top;\n",
       "    }\n",
       "\n",
       "    .dataframe thead th {\n",
       "        text-align: right;\n",
       "    }\n",
       "</style>\n",
       "<table border=\"1\" class=\"dataframe\">\n",
       "  <thead>\n",
       "    <tr style=\"text-align: right;\">\n",
       "      <th></th>\n",
       "      <th>lotsize</th>\n",
       "      <th>tick_size</th>\n",
       "    </tr>\n",
       "    <tr>\n",
       "      <th>symbol</th>\n",
       "      <th></th>\n",
       "      <th></th>\n",
       "    </tr>\n",
       "  </thead>\n",
       "  <tbody>\n",
       "    <tr>\n",
       "      <th>NSEFNO_BANKNIFTY_N25</th>\n",
       "      <td>35</td>\n",
       "      <td>20</td>\n",
       "    </tr>\n",
       "    <tr>\n",
       "      <th>NSEFNO_FINNIFTY_N25</th>\n",
       "      <td>65</td>\n",
       "      <td>10</td>\n",
       "    </tr>\n",
       "    <tr>\n",
       "      <th>NSEFNO_MIDCPNIFTY_N25</th>\n",
       "      <td>140</td>\n",
       "      <td>5</td>\n",
       "    </tr>\n",
       "    <tr>\n",
       "      <th>NSEFNO_NIFTY_N25</th>\n",
       "      <td>75</td>\n",
       "      <td>10</td>\n",
       "    </tr>\n",
       "    <tr>\n",
       "      <th>NSEFNO_NIFTYNXT50_N25</th>\n",
       "      <td>25</td>\n",
       "      <td>20</td>\n",
       "    </tr>\n",
       "  </tbody>\n",
       "</table>\n",
       "</div>"
      ],
      "text/plain": [
       "                       lotsize  tick_size\n",
       "symbol                                   \n",
       "NSEFNO_BANKNIFTY_N25        35         20\n",
       "NSEFNO_FINNIFTY_N25         65         10\n",
       "NSEFNO_MIDCPNIFTY_N25      140          5\n",
       "NSEFNO_NIFTY_N25            75         10\n",
       "NSEFNO_NIFTYNXT50_N25       25         20"
      ]
     },
     "execution_count": 12,
     "metadata": {},
     "output_type": "execute_result"
    }
   ],
   "source": [
    "near_symbol = '_'.join(['NSEFNO',inputs['underlying'],inputs['near']]) \n",
    "far_symbol = '_'.join(['NSEFNO',inputs['underlying'],inputs['far']])\n",
    "farfar_symbol = '_'.join(['NSEFNO',inputs['underlying'],inputs['farfar']])\n",
    "spread_symbol= '_'.join(['NSEFNO' , inputs['underlying'] , 'SP' , inputs['near'] , inputs['far']])\n",
    "\n",
    "print(near_symbol , far_symbol , spread_symbol )\n",
    "\n",
    "df = get_lot_size(inputs)\n",
    "df.head()"
   ]
  },
  {
   "cell_type": "code",
   "execution_count": 13,
   "metadata": {},
   "outputs": [
    {
     "data": {
      "text/plain": [
       "(np.int64(4150), np.int64(1))"
      ]
     },
     "execution_count": 13,
     "metadata": {},
     "output_type": "execute_result"
    }
   ],
   "source": [
    "if( df.loc[near_symbol]['lotsize'] != df.loc[far_symbol]['lotsize']) : \n",
    "    raise ValueError(f'Lot size for {near_symbol} and {far_symbol} are not the same ... ')\n",
    "else : \n",
    "    lotsize = df.loc[near_symbol]['lotsize']\n",
    "\n",
    "\n",
    "if( df.loc[near_symbol]['tick_size'] != df.loc[far_symbol]['tick_size']) : \n",
    "    raise ValueError(f'Tick size for {near_symbol} and {far_symbol} are not the same ... ')\n",
    "else : \n",
    "    ticksize = df.loc[near_symbol]['tick_size']\n",
    " \n",
    "lotsize , ticksize "
   ]
  },
  {
   "cell_type": "code",
   "execution_count": 14,
   "metadata": {},
   "outputs": [
    {
     "data": {
      "text/html": [
       "<div>\n",
       "<style scoped>\n",
       "    .dataframe tbody tr th:only-of-type {\n",
       "        vertical-align: middle;\n",
       "    }\n",
       "\n",
       "    .dataframe tbody tr th {\n",
       "        vertical-align: top;\n",
       "    }\n",
       "\n",
       "    .dataframe thead th {\n",
       "        text-align: right;\n",
       "    }\n",
       "</style>\n",
       "<table border=\"1\" class=\"dataframe\">\n",
       "  <thead>\n",
       "    <tr style=\"text-align: right;\">\n",
       "      <th></th>\n",
       "      <th>InMarketTime</th>\n",
       "      <th>Time</th>\n",
       "      <th>exchange_epoch_nanos</th>\n",
       "      <th>contract_name</th>\n",
       "      <th>expiry date</th>\n",
       "      <th>is_touchline_change</th>\n",
       "      <th>event_type</th>\n",
       "      <th>bp1</th>\n",
       "      <th>bq1</th>\n",
       "      <th>boc1</th>\n",
       "      <th>...</th>\n",
       "      <th>qty</th>\n",
       "      <th>qpos</th>\n",
       "      <th>old_qpos</th>\n",
       "      <th>oid1</th>\n",
       "      <th>oid2</th>\n",
       "      <th>old_price</th>\n",
       "      <th>old_qty</th>\n",
       "      <th>aggressor_type</th>\n",
       "      <th>qty_in_last_trade</th>\n",
       "      <th>level</th>\n",
       "    </tr>\n",
       "  </thead>\n",
       "  <tbody>\n",
       "    <tr>\n",
       "      <th>88072</th>\n",
       "      <td>421428.186497</td>\n",
       "      <td>09:22:01.428186497</td>\n",
       "      <td>1747626721428186497</td>\n",
       "      <td>NSEFNO_HFCL_K25</td>\n",
       "      <td>20250529</td>\n",
       "      <td>0</td>\n",
       "      <td>MODIFY_TICK</td>\n",
       "      <td>89.68</td>\n",
       "      <td>1.0</td>\n",
       "      <td>1.0</td>\n",
       "      <td>...</td>\n",
       "      <td>1.0</td>\n",
       "      <td>2.0</td>\n",
       "      <td>2.0</td>\n",
       "      <td>2.200000e+15</td>\n",
       "      <td>NaN</td>\n",
       "      <td>89.87</td>\n",
       "      <td>1.0</td>\n",
       "      <td>NaN</td>\n",
       "      <td>0.0</td>\n",
       "      <td>5.0</td>\n",
       "    </tr>\n",
       "    <tr>\n",
       "      <th>88073</th>\n",
       "      <td>421428.190699</td>\n",
       "      <td>09:22:01.428190699</td>\n",
       "      <td>1747626721428190699</td>\n",
       "      <td>NSEFNO_HFCL_K25</td>\n",
       "      <td>20250529</td>\n",
       "      <td>1</td>\n",
       "      <td>NEW_TICK</td>\n",
       "      <td>89.69</td>\n",
       "      <td>1.0</td>\n",
       "      <td>1.0</td>\n",
       "      <td>...</td>\n",
       "      <td>1.0</td>\n",
       "      <td>1.0</td>\n",
       "      <td>NaN</td>\n",
       "      <td>2.200000e+15</td>\n",
       "      <td>NaN</td>\n",
       "      <td>NaN</td>\n",
       "      <td>NaN</td>\n",
       "      <td>NaN</td>\n",
       "      <td>0.0</td>\n",
       "      <td>1.0</td>\n",
       "    </tr>\n",
       "    <tr>\n",
       "      <th>88074</th>\n",
       "      <td>421428.253923</td>\n",
       "      <td>09:22:01.428253923</td>\n",
       "      <td>1747626721428253923</td>\n",
       "      <td>NSEFNO_HFCL_K25</td>\n",
       "      <td>20250529</td>\n",
       "      <td>1</td>\n",
       "      <td>MODIFY_TICK</td>\n",
       "      <td>89.70</td>\n",
       "      <td>1.0</td>\n",
       "      <td>1.0</td>\n",
       "      <td>...</td>\n",
       "      <td>1.0</td>\n",
       "      <td>1.0</td>\n",
       "      <td>1.0</td>\n",
       "      <td>2.200000e+15</td>\n",
       "      <td>NaN</td>\n",
       "      <td>89.68</td>\n",
       "      <td>1.0</td>\n",
       "      <td>NaN</td>\n",
       "      <td>0.0</td>\n",
       "      <td>1.0</td>\n",
       "    </tr>\n",
       "    <tr>\n",
       "      <th>88075</th>\n",
       "      <td>421428.259501</td>\n",
       "      <td>09:22:01.428259501</td>\n",
       "      <td>1747626721428259501</td>\n",
       "      <td>NSEFNO_HFCL_K25</td>\n",
       "      <td>20250529</td>\n",
       "      <td>0</td>\n",
       "      <td>MODIFY_TICK</td>\n",
       "      <td>89.70</td>\n",
       "      <td>1.0</td>\n",
       "      <td>1.0</td>\n",
       "      <td>...</td>\n",
       "      <td>1.0</td>\n",
       "      <td>2.0</td>\n",
       "      <td>2.0</td>\n",
       "      <td>2.200000e+15</td>\n",
       "      <td>NaN</td>\n",
       "      <td>89.86</td>\n",
       "      <td>1.0</td>\n",
       "      <td>NaN</td>\n",
       "      <td>0.0</td>\n",
       "      <td>4.0</td>\n",
       "    </tr>\n",
       "    <tr>\n",
       "      <th>88076</th>\n",
       "      <td>421428.332650</td>\n",
       "      <td>09:22:01.428332650</td>\n",
       "      <td>1747626721428332650</td>\n",
       "      <td>NSEFNO_HFCL_K25</td>\n",
       "      <td>20250529</td>\n",
       "      <td>0</td>\n",
       "      <td>MODIFY_TICK</td>\n",
       "      <td>89.70</td>\n",
       "      <td>1.0</td>\n",
       "      <td>1.0</td>\n",
       "      <td>...</td>\n",
       "      <td>1.0</td>\n",
       "      <td>2.0</td>\n",
       "      <td>2.0</td>\n",
       "      <td>2.200000e+15</td>\n",
       "      <td>NaN</td>\n",
       "      <td>89.85</td>\n",
       "      <td>1.0</td>\n",
       "      <td>NaN</td>\n",
       "      <td>0.0</td>\n",
       "      <td>5.0</td>\n",
       "    </tr>\n",
       "  </tbody>\n",
       "</table>\n",
       "<p>5 rows × 53 columns</p>\n",
       "</div>"
      ],
      "text/plain": [
       "        InMarketTime                Time  exchange_epoch_nanos  \\\n",
       "88072  421428.186497  09:22:01.428186497   1747626721428186497   \n",
       "88073  421428.190699  09:22:01.428190699   1747626721428190699   \n",
       "88074  421428.253923  09:22:01.428253923   1747626721428253923   \n",
       "88075  421428.259501  09:22:01.428259501   1747626721428259501   \n",
       "88076  421428.332650  09:22:01.428332650   1747626721428332650   \n",
       "\n",
       "         contract_name  expiry date  is_touchline_change   event_type    bp1  \\\n",
       "88072  NSEFNO_HFCL_K25     20250529                    0  MODIFY_TICK  89.68   \n",
       "88073  NSEFNO_HFCL_K25     20250529                    1     NEW_TICK  89.69   \n",
       "88074  NSEFNO_HFCL_K25     20250529                    1  MODIFY_TICK  89.70   \n",
       "88075  NSEFNO_HFCL_K25     20250529                    0  MODIFY_TICK  89.70   \n",
       "88076  NSEFNO_HFCL_K25     20250529                    0  MODIFY_TICK  89.70   \n",
       "\n",
       "       bq1  boc1  ...  qty  qpos  old_qpos          oid1  oid2  old_price  \\\n",
       "88072  1.0   1.0  ...  1.0   2.0       2.0  2.200000e+15   NaN      89.87   \n",
       "88073  1.0   1.0  ...  1.0   1.0       NaN  2.200000e+15   NaN        NaN   \n",
       "88074  1.0   1.0  ...  1.0   1.0       1.0  2.200000e+15   NaN      89.68   \n",
       "88075  1.0   1.0  ...  1.0   2.0       2.0  2.200000e+15   NaN      89.86   \n",
       "88076  1.0   1.0  ...  1.0   2.0       2.0  2.200000e+15   NaN      89.85   \n",
       "\n",
       "       old_qty  aggressor_type  qty_in_last_trade  level  \n",
       "88072      1.0             NaN                0.0    5.0  \n",
       "88073      NaN             NaN                0.0    1.0  \n",
       "88074      1.0             NaN                0.0    1.0  \n",
       "88075      1.0             NaN                0.0    4.0  \n",
       "88076      1.0             NaN                0.0    5.0  \n",
       "\n",
       "[5 rows x 53 columns]"
      ]
     },
     "metadata": {},
     "output_type": "display_data"
    }
   ],
   "source": [
    "for chunk in get_iter() : \n",
    "\n",
    "    chunk = chunk[(chunk['contract_name'] == near_symbol) | (chunk['contract_name'] == far_symbol ) ].reset_index(drop=True)\n",
    "    chunk.insert(0,'Time',chunk['exchange_epoch_nanos'].apply(convert_ns_to_time))\n",
    "    # InMarketTime -> time in mili seconds after market starts !! \n",
    "    chunk.insert(0,'InMarketTime' , (chunk['exchange_epoch_nanos']%(int(24*36*1e11))*1e-6 - 13500.0*1e3) )\n",
    "    chunk[qty_cols] /= lotsize\n",
    "    chunk[book_cols] = chunk[book_cols].fillna(0.0).astype( float )\n",
    "    display( chunk.tail() )\n",
    "    break                 "
   ]
  },
  {
   "cell_type": "code",
   "execution_count": 1,
   "metadata": {},
   "outputs": [],
   "source": [
    "from collections import deque , Counter \n",
    "from sortedcontainers import SortedList "
   ]
  },
  {
   "cell_type": "code",
   "execution_count": null,
   "metadata": {},
   "outputs": [],
   "source": [
    "# ith entry denoted the min price at which one can buy i quantities of Near contracts \n",
    "NA_Qty_Price = np.zeros( shape = 50 ) \n",
    "\n",
    "# known quoting and defencive quoting orders respectively : \n",
    "#   orders identified with orderid : \n",
    "quote = {}  \n",
    "def_quote = {}\n",
    "#       cancelled orders awaiting updates : \n",
    "quote_cancelled = {}\n",
    "def_quote_cancelled = {}\n",
    "#       new orders that come in whithin the update window \n",
    "\n",
    "\n",
    "# current near ask id : \n",
    "near_ask_id = 0 \n",
    "\n",
    "# order book according to book ids \n",
    "def make_book_dict(book:np.ndarray) : \n",
    "    main = {'book' : book}\n",
    "    main['qty_cumsum'] = np.cumsum(book[: , 1 ] , dtype = int )\n",
    "    main['price_cumsum'] = np.cumsum(book[:,0]*book[:,1])\n",
    "    # to be filled later as and when reqired : \n",
    "    main['price_cumsum_dp'] = np.zeros(main['qty_cumsum'][-1]) - 1  \n",
    "    return main \n",
    "\n",
    "# key : near ask id ! \n",
    "near_ask =  { 0 : make_near_book(np.zeros((5,3)))}\n",
    "far_ask =  { 0 : make_near_book(np.zeros((5,3)))}\n",
    "\n",
    "# track of near ask updates that are not expired ( open to modifications ) \n",
    "update_candidates = {}\n",
    "possible_updates_queue = deque() \n",
    "updates_expiry = {}\n",
    "verified_updates_queue = deque()"
   ]
  },
  {
   "cell_type": "code",
   "execution_count": null,
   "metadata": {},
   "outputs": [],
   "source": [
    "for chunk in get_iter() : \n",
    "\n",
    "    chunk = chunk[(chunk['contract_name'] == near_symbol) | (chunk['contract_name'] == far_symbol ) ].reset_index(drop=True)\n",
    "    chunk.insert(0,'Time',chunk['exchange_epoch_nanos'].apply(convert_ns_to_time))\n",
    "    # InMarketTime -> time in mili seconds after market starts !! \n",
    "    chunk.insert(0,'InMarketTime' , (chunk['exchange_epoch_nanos']%(int(24*36*1e11))*1e-6 - 13500.0*1e3) )\n",
    "    chunk[qty_cols] /= lotsize\n",
    "    chunk[book_cols] = chunk[book_cols].fillna(0.0).astype( float )\n",
    "\n",
    "    i = 0 \n",
    "    n = chunk.shape[0]\n",
    "\n",
    "    while i < n : \n",
    "        row = chunk.iloc[ i , : ]\n",
    "        if (row['contract_name'] == near_symbol) and (row['side'] == 'SELL'): \n",
    "            \n",
    "            new_ask_book = row[ask_cols].to_numpy() \n",
    "            if (new_ask_book != near_ask[near_ask_id] ).any() : \n",
    "                near_ask_id += 1  \n",
    "                # add to near_ask_id: \n",
    "                near_ask[near_ask_id] = make_book_dict(new_ask_book) \n",
    "                # add this update to possible_update_queue : // lated promoted to verified \n",
    "                #   updates if it stays for more than time t1 \n",
    "                possible_updates_queue.append(near_ask_id)\n",
    "                "
   ]
  },
  {
   "cell_type": "code",
   "execution_count": 21,
   "metadata": {},
   "outputs": [
    {
     "data": {
      "text/plain": [
       "(np.True_, np.True_)"
      ]
     },
     "execution_count": 21,
     "metadata": {},
     "output_type": "execute_result"
    }
   ],
   "source": [
    "x = np.array([1,2,3,4,5])\n",
    "y = np.array([1,2,3,2,5])\n",
    "\n",
    "( x==y ).any() , ( x != y ).any()"
   ]
  }
 ],
 "metadata": {
  "kernelspec": {
   "display_name": "Algoquant",
   "language": "python",
   "name": "python3"
  },
  "language_info": {
   "codemirror_mode": {
    "name": "ipython",
    "version": 3
   },
   "file_extension": ".py",
   "mimetype": "text/x-python",
   "name": "python",
   "nbconvert_exporter": "python",
   "pygments_lexer": "ipython3",
   "version": "3.10.18"
  },
  "orig_nbformat": 4,
  "vscode": {
   "interpreter": {
    "hash": "afcc515386c5f6c52dcc1222c04116b1214902c628c69bf0d33568b4a5ec42b2"
   }
  }
 },
 "nbformat": 4,
 "nbformat_minor": 2
}
