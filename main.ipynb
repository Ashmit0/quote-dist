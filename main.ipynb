{
 "cells": [
  {
   "cell_type": "code",
   "execution_count": 1,
   "metadata": {},
   "outputs": [],
   "source": [
    "import os \n",
    "import sys \n",
    "import csv \n",
    "import yaml\n",
    "import pickle \n",
    "import numpy as np \n",
    "import pandas as pd \n",
    "from tqdm import tqdm \n",
    "import datetime "
   ]
  },
  {
   "cell_type": "code",
   "execution_count": 2,
   "metadata": {},
   "outputs": [],
   "source": [
    "# define fixed variable and user inputs : \n",
    "\n",
    "IST = datetime.timezone(datetime.timedelta(hours=5, minutes=30))\n",
    " \n",
    "header_list = ['trading_date','data_source','stream_id','exchange_epoch_nanos','server_epoch_nanos','capture_epoch_nanos',\n",
    "'contract_id','venue_token','contract_name','market_segment_id','symbol','contract_type','strike_price','expiry date',\n",
    "'display_factor','handle_value','currency_unit','is_touchline_change','feed_message_id','inpacket_sequence_num',\n",
    "'is_last_in_feed_message','event_type','packet_sequence_num','contract_sequence_num','is_implied','transact_epoch_nanos',\n",
    "'bp1','bq1','boc1','has_hidden_qty_bid','ap1','aq1','aoc1','has_hidden_qty_ask','bp2','bq2','boc2','ap2','aq2','aoc2',\n",
    "'bp3','bq3','boc3','ap3','aq3','aoc3','bp4','bq4','boc4','ap4','aq4','aoc4','bp5','bq5','boc5','ap5','aq5','aoc5',\n",
    "'implied_bp1','implied_bq1','implied_ap1','implied_aq1','implied_bp2','implied_bq2','implied_ap2','implied_aq2',\n",
    "'previous_mid','mid','is_mid_change','weighted_mid','contract_status','side','price','qty','order_count','qpos',\n",
    "'old_qpos','oid1','oid2','priority','old_price','old_qty','aggressor_type','qty_in_last_trade','level','capture_ts timestamptz']\n",
    "\n",
    "header_list_to_keep = ['exchange_epoch_nanos','server_epoch_nanos','contract_name','symbol','expiry date','is_touchline_change','event_type','transact_epoch_nanos',\n",
    "'bp1','bq1','boc1','has_hidden_qty_bid','ap1','aq1','aoc1','has_hidden_qty_ask','bp2','bq2','boc2','ap2','aq2','aoc2',\n",
    "'bp3','bq3','boc3','ap3','aq3','aoc3','bp4','bq4','boc4','ap4','aq4','aoc4','bp5','bq5','boc5','ap5','aq5','aoc5',\n",
    "'previous_mid','mid','is_mid_change','weighted_mid','side','price','qty','order_count','qpos',\n",
    "'old_qpos','oid1','oid2','priority','old_price','old_qty','aggressor_type','qty_in_last_trade','level'\n",
    "]\n",
    "\n",
    "cols_to_check = ['market_segment_id','contract_type',\n",
    "'display_factor','handle_value','is_touchline_change','inpacket_sequence_num',\n",
    "'is_last_in_feed_message','contract_sequence_num','is_implied','contract_status','qpos',\n",
    "'old_qpos']\n",
    "\n",
    "qty_cols = ['bq1','has_hidden_qty_bid',\n",
    "    'aq1','has_hidden_qty_ask','bq2','aq2','bq3','aq3',\n",
    "    'bq4','aq4','bq5','aq5','qty',\n",
    "    'old_qty','qty_in_last_trade'\n",
    "]\n",
    "\n",
    "ns_cols = ['exchange_epoch_nanos' , 'server_epoch_nanos' , 'capture_epoch_nanos' , 'transact_epoch_nanos' , 'priority']\n",
    "\n",
    "with open('user_input.yaml' , 'r' ) as f : \n",
    "    inputs = yaml.safe_load( f ) \n",
    "\n",
    "\n",
    "usecols = [header_list.index(col) for col in header_list_to_keep ]"
   ]
  },
  {
   "cell_type": "code",
   "execution_count": 3,
   "metadata": {},
   "outputs": [
    {
     "data": {
      "text/plain": [
       "'/data/ashmit_data/20250519/obo_20250519.log'"
      ]
     },
     "execution_count": 3,
     "metadata": {},
     "output_type": "execute_result"
    }
   ],
   "source": [
    "# path to obo file :\n",
    "date_dir =  os.path.join(inputs['parent_dir'] , inputs['date'] )\n",
    "for file in os.listdir( date_dir ) : \n",
    "    if file.startswith('obo') : \n",
    "        file_path = os.path.join( date_dir , file )\n",
    "        break \n",
    "\n",
    "file_path "
   ]
  },
  {
   "cell_type": "code",
   "execution_count": 4,
   "metadata": {},
   "outputs": [],
   "source": [
    "def get_iter() : \n",
    "    return pd.read_csv(file_path, header=None, names=header_list_to_keep , chunksize=inputs['chunk_size'] , dtype = {82 : str} , usecols= usecols ) "
   ]
  },
  {
   "cell_type": "code",
   "execution_count": 5,
   "metadata": {},
   "outputs": [],
   "source": [
    "def get_unique( cols_to_check ): \n",
    "    check_dict = { col : []  for col in cols_to_check }\n",
    "    for chunk in get_iter() : \n",
    "        for col in cols_to_check : \n",
    "            temp = chunk.dropna(subset=[col])\n",
    "            check_dict[col] = check_dict[col] + temp[col].unique().tolist()\n",
    "    for col in check_dict : \n",
    "        print(f'for {col} : {np.unique(check_dict[col])}')"
   ]
  },
  {
   "cell_type": "code",
   "execution_count": 6,
   "metadata": {},
   "outputs": [],
   "source": [
    "def convert_ns_to_time(time_ns ) : \n",
    "    dt = datetime.datetime.fromtimestamp( np.floor(time_ns/1e9) , tz=IST).replace(tzinfo=None).time()\n",
    "    ns_part = f\"{time_ns%int(1e9)*1e-9:.9f}\"\n",
    "\n",
    "    return dt.strftime('%H:%M:%S') + ns_part[1:]"
   ]
  },
  {
   "cell_type": "code",
   "execution_count": 7,
   "metadata": {},
   "outputs": [
    {
     "data": {
      "text/plain": [
       "'15:33:08.764685036'"
      ]
     },
     "execution_count": 7,
     "metadata": {},
     "output_type": "execute_result"
    }
   ],
   "source": [
    "convert_ns_to_time( 1747648988764685036 )"
   ]
  },
  {
   "cell_type": "code",
   "execution_count": 8,
   "metadata": {},
   "outputs": [],
   "source": [
    "# get_unique(['event_type' , 'qpos' , 'level'])\n",
    "# get_unique(['order_count' , 'has_hidden_qty_bid' , 'aggressor_type'])"
   ]
  },
  {
   "cell_type": "code",
   "execution_count": 9,
   "metadata": {},
   "outputs": [],
   "source": [
    "next(get_iter()).fillna('--').to_csv('temp.csv' , index = False )"
   ]
  },
  {
   "cell_type": "code",
   "execution_count": 10,
   "metadata": {},
   "outputs": [],
   "source": [
    "def get_lot_size_path(inputs) : \n",
    "    return os.path.join( inputs['contract_dir'], inputs['near'] + '_NSE_FO_FUT_LOT_SIZE.pickel' )\n",
    "\n",
    "def get_contract_master_path(inputs) : \n",
    "    year_month_str = pd.to_datetime( inputs['date'] ).strftime(format = '%Y_%m')\n",
    "    contract_path = [ os.path.join(inputs['contract_dir'], f) for f in os.listdir(inputs['contract_dir']) if f.startswith(year_month_str) and os.path.isfile(os.path.join(inputs['contract_dir'], f))]\n",
    "    if( len(contract_path) == 0 ) : \n",
    "        raise ValueError(f\"Contrate Path for {inputs['date']} not found.\")\n",
    "    return contract_path[0]\n",
    "\n",
    "month_to_nse_code = {\n",
    "    1: 'F',   # January\n",
    "    2: 'G',   # February\n",
    "    3: 'H',   # March\n",
    "    4: 'J',   # April\n",
    "    5: 'K',   # May\n",
    "    6: 'M',   # June\n",
    "    7: 'N',   # July\n",
    "    8: 'Q',   # August\n",
    "    9: 'U',   # September\n",
    "    10: 'V',  # October\n",
    "    11: 'X',  # November\n",
    "    12: 'Z'   # December\n",
    "}\n",
    "\n",
    "def convert_date_to_code( date ) : \n",
    "    if( type(date) != str ): \n",
    "        date = str( date )\n",
    "    date = pd.to_datetime( date )\n",
    "    return month_to_nse_code[int(date.strftime('%m'))] + date.strftime('%Y')[2:]\n",
    "\n",
    "def get_lot_size(inputs) : \n",
    "    lot_path = get_lot_size_path(inputs) \n",
    "    try : \n",
    "        with open( lot_path , 'rb' ) as f : \n",
    "            lot_dict = pickle.load(f)\n",
    "    except :  \n",
    "        df = pd.read_csv(\n",
    "            get_contract_master_path(inputs) , \n",
    "            compression='gzip' , \n",
    "            usecols = [2,3,7,12]\n",
    "        )\n",
    "        df = df[df['type'] == 'FUT' ]\n",
    "        df['expiry_date'] = df['expiry_date'].apply(convert_date_to_code)\n",
    "        df['symbol'] = 'NSEFNO_' + df['symbol'] + '_' + df['expiry_date']\n",
    "        df.pop('type')\n",
    "        df.pop('expiry_date')\n",
    "        df = df.set_index('symbol')\n",
    "        lot_dict = df['lotsize'].to_dict()\n",
    "        with open( lot_path , 'wb' ) as f : \n",
    "            pickle.dump( lot_dict , f ) \n",
    "    return lot_dict "
   ]
  },
  {
   "cell_type": "code",
   "execution_count": 11,
   "metadata": {},
   "outputs": [
    {
     "data": {
      "text/plain": [
       "('NSEFNO_HFCL_K25', 'NSEFNO_HFCL_M25')"
      ]
     },
     "execution_count": 11,
     "metadata": {},
     "output_type": "execute_result"
    }
   ],
   "source": [
    "near_symbol = '_'.join(['NSEFNO',inputs['underlying'],inputs['near']]) \n",
    "far_symbol = '_'.join(['NSEFNO',inputs['underlying'],inputs['far']])\n",
    "farfar_symbol = '_'.join(['NSEFNO',inputs['underlying'],inputs['farfar']])\n",
    "\n",
    "near_symbol , far_symbol"
   ]
  },
  {
   "cell_type": "code",
   "execution_count": 12,
   "metadata": {},
   "outputs": [
    {
     "data": {
      "text/plain": [
       "4150"
      ]
     },
     "execution_count": 12,
     "metadata": {},
     "output_type": "execute_result"
    }
   ],
   "source": [
    "lot_dict = get_lot_size(inputs)\n",
    "if( lot_dict[near_symbol] != lot_dict[far_symbol] ) : \n",
    "    raise ValueError(f'Lot size for {near_symbol} and {far_symbol} are not the same ... ')\n",
    "else : \n",
    "    lotsize = lot_dict[near_symbol] \n",
    "lotsize "
   ]
  },
  {
   "cell_type": "code",
   "execution_count": 13,
   "metadata": {},
   "outputs": [],
   "source": [
    "example = next(get_iter())\n",
    "example = example[~(example['contract_name'] == farfar_symbol)]\n",
    "example[qty_cols] = (example[qty_cols] / lotsize )\n",
    "example.fillna('--').to_csv('temp2.csv' , index = False ) "
   ]
  }
 ],
 "metadata": {
  "kernelspec": {
   "display_name": "Algoquant",
   "language": "python",
   "name": "python3"
  },
  "language_info": {
   "codemirror_mode": {
    "name": "ipython",
    "version": 3
   },
   "file_extension": ".py",
   "mimetype": "text/x-python",
   "name": "python",
   "nbconvert_exporter": "python",
   "pygments_lexer": "ipython3",
   "version": "3.10.16"
  },
  "orig_nbformat": 4,
  "vscode": {
   "interpreter": {
    "hash": "afcc515386c5f6c52dcc1222c04116b1214902c628c69bf0d33568b4a5ec42b2"
   }
  }
 },
 "nbformat": 4,
 "nbformat_minor": 2
}
