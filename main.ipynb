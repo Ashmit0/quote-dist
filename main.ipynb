{
 "cells": [
  {
   "cell_type": "code",
   "execution_count": 1,
   "metadata": {},
   "outputs": [],
   "source": [
    "import os \n",
    "import sys \n",
    "import csv \n",
    "import yaml\n",
    "import numpy as np \n",
    "import pandas as pd \n",
    "from tqdm import tqdm \n",
    "import datetime "
   ]
  },
  {
   "cell_type": "code",
   "execution_count": 2,
   "metadata": {},
   "outputs": [],
   "source": [
    "# define fixed variable and user inputs : \n",
    "\n",
    "IST = datetime.timezone(datetime.timedelta(hours=5, minutes=30))\n",
    " \n",
    "header_list = ['trading_date','data_source','stream_id','exchange_epoch_nanos','server_epoch_nanos','capture_epoch_nanos',\n",
    "'contract_id','venue_token','contract_name','market_segment_id','symbol','contract_type','strike_price','expiry date',\n",
    "'display_factor','handle_value','currency_unit','is_touchline_change','feed_message_id','inpacket_sequence_num',\n",
    "'is_last_in_feed_message','event_type','packet_sequence_num','contract_sequence_num','is_implied','transact_epoch_nanos',\n",
    "'bp1','bq1','boc1','has_hidden_qty_bid','ap1','aq1','aoc1','has_hidden_qty_ask','bp2','bq2','boc2','ap2','aq2','aoc2',\n",
    "'bp3','bq3','boc3','ap3','aq3','aoc3','bp4','bq4','boc4','ap4','aq4','aoc4','bp5','bq5','boc5','ap5','aq5','aoc5',\n",
    "'implied_bp1','implied_bq1','implied_ap1','implied_aq1','implied_bp2','implied_bq2','implied_ap2','implied_aq2',\n",
    "'previous_mid','mid','is_mid_change','weighted_mid','contract_status','side','price','qty','order_count','qpos',\n",
    "'old_qpos','oid1','oid2','priority','old_price','old_qty','aggressor_type','qty_in_last_trade','level','capture_ts timestamptz']\n",
    "\n",
    "header_list_to_keep = ['exchange_epoch_nanos','server_epoch_nanos','contract_name','symbol','expiry date','is_touchline_change','feed_message_id','inpacket_sequence_num',\n",
    "'is_last_in_feed_message','event_type','transact_epoch_nanos',\n",
    "'bp1','bq1','boc1','has_hidden_qty_bid','ap1','aq1','aoc1','has_hidden_qty_ask','bp2','bq2','boc2','ap2','aq2','aoc2',\n",
    "'bp3','bq3','boc3','ap3','aq3','aoc3','bp4','bq4','boc4','ap4','aq4','aoc4','bp5','bq5','boc5','ap5','aq5','aoc5',\n",
    "'previous_mid','mid','is_mid_change','weighted_mid','side','price','qty','order_count','qpos',\n",
    "'old_qpos','oid1','oid2','priority','old_price','old_qty','aggressor_type','qty_in_last_trade','level']\n",
    "\n",
    "cols_to_check = ['market_segment_id','contract_type',\n",
    "'display_factor','handle_value','is_touchline_change','inpacket_sequence_num',\n",
    "'is_last_in_feed_message','contract_sequence_num','is_implied','contract_status','qpos',\n",
    "'old_qpos']\n",
    "\n",
    "ns_cols = ['exchange_epoch_nanos' , 'server_epoch_nanos' , 'capture_epoch_nanos' , 'transact_epoch_nanos' , 'priority']\n",
    "\n",
    "with open('user_input.yaml' , 'r' ) as f : \n",
    "    inputs = yaml.safe_load( f ) \n",
    "\n",
    "\n",
    "usecols = [header_list.index(col) for col in header_list_to_keep ]"
   ]
  },
  {
   "cell_type": "code",
   "execution_count": 3,
   "metadata": {},
   "outputs": [
    {
     "data": {
      "text/plain": [
       "[3,\n",
       " 4,\n",
       " 8,\n",
       " 10,\n",
       " 13,\n",
       " 17,\n",
       " 18,\n",
       " 19,\n",
       " 20,\n",
       " 21,\n",
       " 25,\n",
       " 26,\n",
       " 27,\n",
       " 28,\n",
       " 29,\n",
       " 30,\n",
       " 31,\n",
       " 32,\n",
       " 33,\n",
       " 34,\n",
       " 35,\n",
       " 36,\n",
       " 37,\n",
       " 38,\n",
       " 39,\n",
       " 40,\n",
       " 41,\n",
       " 42,\n",
       " 43,\n",
       " 44,\n",
       " 45,\n",
       " 46,\n",
       " 47,\n",
       " 48,\n",
       " 49,\n",
       " 50,\n",
       " 51,\n",
       " 52,\n",
       " 53,\n",
       " 54,\n",
       " 55,\n",
       " 56,\n",
       " 57,\n",
       " 66,\n",
       " 67,\n",
       " 68,\n",
       " 69,\n",
       " 71,\n",
       " 72,\n",
       " 73,\n",
       " 74,\n",
       " 75,\n",
       " 76,\n",
       " 77,\n",
       " 78,\n",
       " 79,\n",
       " 80,\n",
       " 81,\n",
       " 82,\n",
       " 83,\n",
       " 84]"
      ]
     },
     "execution_count": 3,
     "metadata": {},
     "output_type": "execute_result"
    }
   ],
   "source": [
    "usecols"
   ]
  },
  {
   "cell_type": "code",
   "execution_count": 4,
   "metadata": {},
   "outputs": [
    {
     "data": {
      "text/plain": [
       "'/data/ashmit_data/20250519/obo_20250519.log'"
      ]
     },
     "execution_count": 4,
     "metadata": {},
     "output_type": "execute_result"
    }
   ],
   "source": [
    "# path to obo file :\n",
    "date_dir =  os.path.join(inputs['parent_dir'] , inputs['date'] )\n",
    "for file in os.listdir( date_dir ) : \n",
    "    if file.startswith('obo') : \n",
    "        file_path = os.path.join( date_dir , file )\n",
    "        break \n",
    "\n",
    "file_path "
   ]
  },
  {
   "cell_type": "code",
   "execution_count": 5,
   "metadata": {},
   "outputs": [],
   "source": [
    "def get_iter() : \n",
    "    return pd.read_csv(file_path, header=None, names=header_list_to_keep , chunksize=inputs['chunk_size'] , dtype = {82 : str} , usecols= usecols ) "
   ]
  },
  {
   "cell_type": "code",
   "execution_count": 6,
   "metadata": {},
   "outputs": [],
   "source": [
    "def get_unique( cols_to_check ): \n",
    "    check_dict = { col : []  for col in cols_to_check }\n",
    "    for chunk in get_iter() : \n",
    "        for col in cols_to_check : \n",
    "            temp = chunk.dropna(subset=[col])\n",
    "            check_dict[col] = check_dict[col] + temp[col].unique().tolist()\n",
    "    for col in check_dict : \n",
    "        print(f'for {col} : {np.unique(check_dict[col])}')"
   ]
  },
  {
   "cell_type": "code",
   "execution_count": 7,
   "metadata": {},
   "outputs": [],
   "source": [
    "def convert_ns_to_time(time_ns ) : \n",
    "    dt = datetime.datetime.fromtimestamp( np.floor(time_ns/1e9) , tz=IST).replace(tzinfo=None).time()\n",
    "    ns_part = f\"{time_ns%int(1e9)*1e-9:.9f}\"\n",
    "\n",
    "    return dt.strftime('%H:%M:%S') + ns_part[1:]"
   ]
  },
  {
   "cell_type": "code",
   "execution_count": 8,
   "metadata": {},
   "outputs": [
    {
     "data": {
      "text/plain": [
       "'15:33:08.764685036'"
      ]
     },
     "execution_count": 8,
     "metadata": {},
     "output_type": "execute_result"
    }
   ],
   "source": [
    "convert_ns_to_time( 1747648988764685036 )"
   ]
  },
  {
   "cell_type": "code",
   "execution_count": 9,
   "metadata": {},
   "outputs": [],
   "source": [
    "# get_unique(['event_type' , 'qpos' , 'level'])"
   ]
  },
  {
   "cell_type": "code",
   "execution_count": 14,
   "metadata": {},
   "outputs": [],
   "source": [
    "next(get_iter()).fillna('--').to_csv('temp2.csv' , index = False )"
   ]
  }
 ],
 "metadata": {
  "kernelspec": {
   "display_name": "Algoquant",
   "language": "python",
   "name": "python3"
  },
  "language_info": {
   "codemirror_mode": {
    "name": "ipython",
    "version": 3
   },
   "file_extension": ".py",
   "mimetype": "text/x-python",
   "name": "python",
   "nbconvert_exporter": "python",
   "pygments_lexer": "ipython3",
   "version": "3.10.16"
  },
  "orig_nbformat": 4,
  "vscode": {
   "interpreter": {
    "hash": "afcc515386c5f6c52dcc1222c04116b1214902c628c69bf0d33568b4a5ec42b2"
   }
  }
 },
 "nbformat": 4,
 "nbformat_minor": 2
}
